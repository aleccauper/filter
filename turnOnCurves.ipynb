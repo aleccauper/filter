{
 "cells": [
  {
   "cell_type": "code",
   "execution_count": null,
   "id": "01df524a-9a8b-4563-9912-8074670da08f",
   "metadata": {},
   "outputs": [],
   "source": [
    "import matplotlib.pyplot as plt\n",
    "import numpy as np\n",
    "import pandas as pd\n",
    "from pandas import read_csv\n",
    "import math\n",
    "pd.options.display.max_seq_items = 50\n",
    "# import seaborn as sns"
   ]
  },
  {
   "cell_type": "code",
   "execution_count": null,
   "id": "5497651d-b455-4358-ba7d-8f42b40975ad",
   "metadata": {},
   "outputs": [],
   "source": [
    "dataset_name = 'dataset_3s'\n",
    "results_dir = 'results_3s'\n",
    "models_dir = 'models_3s'\n",
    "sizes = ['50x10', '50x12P5', '50x15', '50x20', '50x25', '100x25', '100x25x150']\n",
    "thresholds = [0.1, 0.15, 0.2, 0.3, 0.4, 0.5]"
   ]
  },
  {
   "cell_type": "code",
   "execution_count": null,
   "id": "202d8b5e-9daf-483f-adb4-35ff44376a35",
   "metadata": {
    "scrolled": true
   },
   "outputs": [],
   "source": [
    "# Negative side\n",
    "for sensor_geom in sizes:\n",
    "    for threshold in thresholds:\n",
    "        print(\"=============================\")\n",
    "        print(\"Producing results for \",sensor_geom,\" at pT boundary = \",threshold)\n",
    "        df1 = pd.read_csv('./'+dataset_name+'/TestSetPt_'+sensor_geom+'_0P'+str(threshold - int(threshold))[2:]+'thresh.csv')\n",
    "        df2 = pd.read_csv('./'+results_dir+'/predictionsFiles_'+sensor_geom+'_0P'+str(threshold - int(threshold))[2:]+'thresh.csv')\n",
    "        df3 = pd.read_csv('./'+results_dir+'/testResults_'+sensor_geom+'_0P'+str(threshold - int(threshold))[2:]+'thresh.csv')\n",
    "        df2.columns.values[0] = \"predict\"\n",
    "        df3.columns.values[0] = \"true\"\n",
    "        df2['predict'] = df2['predict'].astype(int)\n",
    "        concatenate = pd.concat([df1,df2, df3], axis=1)\n",
    "        list1 = []\n",
    "        list2 = []\n",
    "        xvalues = [0.0, -0.1,-0.2,-0.3,-0.4,-0.5,-0.6,-0.7,-0.8,-0.9,-1.0,-1.1,-1.2,-1.3,-1.4,-1.5,-1.6,-1.7,-1.8,-1.9,-2.0,-2.5,-3.0,-3.5,-4.0,-4.5,-5.0]\n",
    "        \n",
    "        for i in range(len(xvalues)-1):\n",
    "            binValidate = concatenate.loc[(concatenate['pt'] > xvalues[i+1]) & (concatenate['pt'] <= xvalues[i])]\n",
    "            list1.append(binValidate.shape[0])\n",
    "            list2.append(sum((binValidate.predict == 0)) / (binValidate.shape[0]))\n",
    "        \n",
    "        reversed_list2 = list2[::-1]\n",
    "        #reversed_list2\n",
    "        print(\"Length of reversed list = \",len(reversed_list2))\n",
    "        reversed_list = list1[::-1]\n",
    "        y_values=np.array([reversed_list2])\n",
    "        x_values=np.array([reversed_list])\n",
    "        first = y_values*(1-y_values)\n",
    "        second = first/x_values\n",
    "        errors = np.sqrt(second)\n",
    "        print(\"X values = \",x_values)\n",
    "        print(\"Y values = \",y_values)\n",
    "        print(\"Errors = \",errors)\n",
    "        np.savetxt('./'+results_dir+'/NegativeYValuesRebin_'+sensor_geom+'_0P'+str(threshold - int(threshold))[2:]+'thresh2.out',y_values, delimiter=',')\n",
    "        np.savetxt('./'+results_dir+'/errorsNegativeRebin_'+sensor_geom+'_0P'+str(threshold - int(threshold))[2:]+'thresh2.out', errors, delimiter=',')"
   ]
  },
  {
   "cell_type": "code",
   "execution_count": null,
   "id": "0f873e92-0f27-4104-be5d-47132ab1c8b3",
   "metadata": {
    "scrolled": true
   },
   "outputs": [],
   "source": [
    "# Positive side\n",
    "for sensor_geom in sizes:\n",
    "    for threshold in thresholds:\n",
    "        print(\"=============================\")\n",
    "        print(\"Producing results for \",sensor_geom,\" at pT boundary = \",threshold)\n",
    "        df1 = pd.read_csv('./'+dataset_name+'/TestSetPt_'+sensor_geom+'_0P'+str(threshold - int(threshold))[2:]+'thresh.csv')\n",
    "        df2 = pd.read_csv('./'+results_dir+'/predictionsFiles_'+sensor_geom+'_0P'+str(threshold - int(threshold))[2:]+'thresh.csv')\n",
    "        df3 = pd.read_csv('./'+results_dir+'/testResults_'+sensor_geom+'_0P'+str(threshold - int(threshold))[2:]+'thresh.csv')\n",
    "        df2.columns.values[0] = \"predict\"\n",
    "        df3.columns.values[0] = \"true\"\n",
    "        df2['predict'] = df2['predict'].astype(int)\n",
    "        concatenate = pd.concat([df1,df2, df3], axis=1)\n",
    "        list1 = []\n",
    "        list2 = []\n",
    "        bin_edges = [0.0, 0.1, 0.2, 0.3, 0.4, 0.5, 0.6, 0.7, 0.8, 0.9, 1.0, 1.1, 1.2, 1.3, 1.4, 1.5, 1.6, 1.7, 1.8, 1.9, 2.0, 2.5, 3.0, 3.5, 4.0, 4.5, 5.0]\n",
    "        for i in range(len(bin_edges) - 1):\n",
    "            bin = concatenate.loc[(concatenate['pt'] < bin_edges[i+1]) & (concatenate['pt'] >= bin_edges[i])]\n",
    "            list1.append(bin.shape[0])\n",
    "            list2.append(sum(bin.predict == 0) / bin.shape[0])\n",
    "        \n",
    "        # %%\n",
    "        y_values = np.array([list2])\n",
    "        x_values = np.array([list1])\n",
    "        errors = np.sqrt(y_values * (1 - y_values) / x_values)\n",
    "        print(\"X values = \",x_values)\n",
    "        print(\"Y values = \",y_values)\n",
    "        print(\"Errors = \",errors)\n",
    "        np.savetxt('./'+results_dir+'/PositiveYValuesRebin_'+sensor_geom+'_0P'+str(threshold - int(threshold))[2:]+'thresh2.out', y_values, delimiter=',')\n",
    "        np.savetxt('./'+results_dir+'/errorsPositiveRebin_'+sensor_geom+'_0P'+str(threshold - int(threshold))[2:]+'thresh2.out', errors, delimiter=',')"
   ]
  },
  {
   "cell_type": "code",
   "execution_count": null,
   "id": "f310df70-a1b4-457b-a738-55753ad96086",
   "metadata": {
    "scrolled": true
   },
   "outputs": [],
   "source": [
    "prefix = \"2\"\n",
    "xvalues = [-4.5,-4.0,-3.5,-3.0,-2.5,-2.0,-1.9,-1.8,-1.7,-1.6,-1.5,-1.4,-1.3,-1.2,-1.1,-1.0,-0.9,-0.8,-0.7,-0.6,-0.5,-0.4,-0.3,-0.2, -0.1, 0, 0, 0.1,0.2,0.3,0.4, 0.5,0.6,0.7,0.8,0.9,1.0,1.1,1.2,1.3,1.4,1.5,1.6,1.7,1.8,1.9,2.0,2.5,3.0,3.5,4.0,4.5]\n",
    "thresholds = [0.1, 0.15, 0.2, 0.3, 0.4, 0.5]\n",
    "for width_iter in sizes:\n",
    "    sensor_geom = '50x'+width_iter\n",
    "    for i, iter in enumerate(thresholds):\n",
    "        print(\"=============================\")\n",
    "        print(\"Producing results for \",sensor_geom,\" at pT boundary = \",threshold)\n",
    "        threshold = iter\n",
    "        df1 = pd.read_csv('./'+results_dir+'/PositiveYValuesRebin_'+sensor_geom+'_0P'+str(threshold - int(threshold))[2:]+'thresh'+prefix+'.out', header=None)\n",
    "        df1 = df1.T\n",
    "        df2 = pd.read_csv('./'+results_dir+'/NegativeYValuesRebin_'+sensor_geom+'_0P'+str(threshold - int(threshold))[2:]+'thresh'+prefix+'.out', header=None)\n",
    "        df2 = df2.T\n",
    "        df1.columns =['yvalues']\n",
    "        df2.columns =['yvalues']\n",
    "        df3 = pd.concat([df2,df1],join=\"inner\")\n",
    "        \n",
    "        df1_error = pd.read_csv('./'+results_dir+'/errorsPositiveRebin_'+sensor_geom+'_0P'+str(threshold - int(threshold))[2:]+'thresh'+prefix+'.out', header=None)\n",
    "        df1_error = df1_error.T\n",
    "        df2_error = pd.read_csv('./'+results_dir+'/errorsNegativeRebin_'+sensor_geom+'_0P'+str(threshold - int(threshold))[2:]+'thresh'+prefix+'.out', header=None)\n",
    "        df2_error = df2_error.T\n",
    "        df1_error.columns =['error']\n",
    "        df2_error.columns =['error']\n",
    "        df3_error = pd.concat([df2_error,df1_error],join=\"inner\")\n",
    "        \n",
    "        mergeDF = pd.concat([df3,df3_error],axis=1)\n",
    "        mergeDF['xvalues'] = xvalues\n",
    "        xvaluesArray = np.array(mergeDF['xvalues'])\n",
    "        yvaluesArray = np.array(mergeDF['yvalues'])\n",
    "        errorArray = np.array(mergeDF['error'])\n",
    "        plt.errorbar(xvaluesArray, yvaluesArray, yerr=errorArray, label=\"Boundary=\"+str(threshold))\n",
    "        # plt.scatter(xvaluesArray, yvaluesArray)\n",
    "    \n",
    "    plt.legend()\n",
    "    if sensor_geom=='50x12P5':\n",
    "        geom_tmp = '50x12.5x100'\n",
    "    else:\n",
    "        geom_tmp = sensor_geom[0:2]+'x'+ sensor_geom[3:5]+'x100'\n",
    "    plt.title('Turn-on curve for '+geom_tmp+' um3 sensor')\n",
    "    plt.ylim([0,1.01])\n",
    "    plt.xlabel(r'true $P_{T}$ (GeV)')\n",
    "    plt.ylabel('fraction classified as > abs (low/high pT boundary)')\n",
    "    plt.yticks([0,0.1,0.2,0.3,0.4,0.5,0.6,0.7,0.8,0.9,1.0])\n",
    "    # plt.xticks([-2,-1.5,-1,-0.5,-0.4,-0.3,-0.2, -0.1, 0, 0.1,0.2,0.3,0.4,0.5,1.0,1.5,2], rotation=45)\n",
    "    plt.xticks([-5.0,-4.5,-4.0,-3.5,-3.0,-2.5,-2,-1.5,-1,-0.6,-0.3,0, 0.3,0.6,1.0,1.5,2,2.5,3.0,3.5,4.0,4.5,5.0], rotation=45)\n",
    "    plt.grid()\n",
    "    plt.tight_layout()\n",
    "    plt.savefig('./'+results_dir+'/multiclassifier_AllThresh_'+sensor_geom+'_'+prefix+'.png')\n",
    "    plt.close()"
   ]
  },
  {
   "cell_type": "code",
   "execution_count": null,
   "id": "81ed92dd-4a70-4896-a044-fa159a680c14",
   "metadata": {},
   "outputs": [],
   "source": []
  }
 ],
 "metadata": {
  "kernelspec": {
   "display_name": "Python 3 (ipykernel)",
   "language": "python",
   "name": "python3"
  },
  "language_info": {
   "codemirror_mode": {
    "name": "ipython",
    "version": 3
   },
   "file_extension": ".py",
   "mimetype": "text/x-python",
   "name": "python",
   "nbconvert_exporter": "python",
   "pygments_lexer": "ipython3",
   "version": "3.10.14"
  }
 },
 "nbformat": 4,
 "nbformat_minor": 5
}
