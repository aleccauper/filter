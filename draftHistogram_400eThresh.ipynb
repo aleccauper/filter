{
 "cells": [
  {
   "cell_type": "code",
   "execution_count": 159,
   "id": "8d3bd0a9-0e8d-4208-9196-5e4782e07193",
   "metadata": {},
   "outputs": [],
   "source": [
    "import pandas as pd\n",
    "import matplotlib.pyplot as plt\n",
    "import numpy as np"
   ]
  },
  {
   "cell_type": "code",
   "execution_count": 9,
   "id": "a5e21fff-f65f-4f18-9b7a-6a1bc50d0820",
   "metadata": {},
   "outputs": [],
   "source": [
    "train_dir = '/uscms/home/bweiss/nobackup/smart-pixels/dataset_2s_50x12P5_parquets/train_test_2s'"
   ]
  },
  {
   "cell_type": "code",
   "execution_count": 10,
   "id": "8ed6f057-a346-4cb0-ac4c-b19432e91201",
   "metadata": {},
   "outputs": [
    {
     "data": {
      "text/html": [
       "<div>\n",
       "<style scoped>\n",
       "    .dataframe tbody tr th:only-of-type {\n",
       "        vertical-align: middle;\n",
       "    }\n",
       "\n",
       "    .dataframe tbody tr th {\n",
       "        vertical-align: top;\n",
       "    }\n",
       "\n",
       "    .dataframe thead th {\n",
       "        text-align: right;\n",
       "    }\n",
       "</style>\n",
       "<table border=\"1\" class=\"dataframe\">\n",
       "  <thead>\n",
       "    <tr style=\"text-align: right;\">\n",
       "      <th></th>\n",
       "      <th>pt</th>\n",
       "    </tr>\n",
       "  </thead>\n",
       "  <tbody>\n",
       "    <tr>\n",
       "      <th>0</th>\n",
       "      <td>2.5575</td>\n",
       "    </tr>\n",
       "    <tr>\n",
       "      <th>1</th>\n",
       "      <td>1.7065</td>\n",
       "    </tr>\n",
       "    <tr>\n",
       "      <th>2</th>\n",
       "      <td>1.9615</td>\n",
       "    </tr>\n",
       "    <tr>\n",
       "      <th>3</th>\n",
       "      <td>1.5965</td>\n",
       "    </tr>\n",
       "    <tr>\n",
       "      <th>4</th>\n",
       "      <td>-2.5775</td>\n",
       "    </tr>\n",
       "    <tr>\n",
       "      <th>...</th>\n",
       "      <td>...</td>\n",
       "    </tr>\n",
       "    <tr>\n",
       "      <th>2040211</th>\n",
       "      <td>-0.5375</td>\n",
       "    </tr>\n",
       "    <tr>\n",
       "      <th>2040212</th>\n",
       "      <td>0.3355</td>\n",
       "    </tr>\n",
       "    <tr>\n",
       "      <th>2040213</th>\n",
       "      <td>-0.4005</td>\n",
       "    </tr>\n",
       "    <tr>\n",
       "      <th>2040214</th>\n",
       "      <td>-0.3685</td>\n",
       "    </tr>\n",
       "    <tr>\n",
       "      <th>2040215</th>\n",
       "      <td>-0.2315</td>\n",
       "    </tr>\n",
       "  </tbody>\n",
       "</table>\n",
       "<p>2040216 rows × 1 columns</p>\n",
       "</div>"
      ],
      "text/plain": [
       "             pt\n",
       "0        2.5575\n",
       "1        1.7065\n",
       "2        1.9615\n",
       "3        1.5965\n",
       "4       -2.5775\n",
       "...         ...\n",
       "2040211 -0.5375\n",
       "2040212  0.3355\n",
       "2040213 -0.4005\n",
       "2040214 -0.3685\n",
       "2040215 -0.2315\n",
       "\n",
       "[2040216 rows x 1 columns]"
      ]
     },
     "execution_count": 10,
     "metadata": {},
     "output_type": "execute_result"
    }
   ],
   "source": [
    "pd.read_csv(os.path.join(train_dir,'TestSetPt.csv'))"
   ]
  },
  {
   "cell_type": "code",
   "execution_count": 13,
   "id": "f5951162-5677-4a87-acf8-9bba110e0e21",
   "metadata": {},
   "outputs": [
    {
     "name": "stdout",
     "output_type": "stream",
     "text": [
      "FullTestData.csv\n",
      "FullPrecisionInputTestSet.csv\n",
      "TestSetLabel.csv\n",
      "TestSetPt.csv\n"
     ]
    }
   ],
   "source": [
    "csv_files = [f for f in os.listdir(train_dir) if f.endswith('.csv')]\n",
    "\n",
    "for f in csv_files:\n",
    "    print(f)"
   ]
  },
  {
   "cell_type": "code",
   "execution_count": 15,
   "id": "38667f6c-c0fc-4a45-8425-e5a85f351fee",
   "metadata": {},
   "outputs": [
    {
     "data": {
      "text/html": [
       "<div>\n",
       "<style scoped>\n",
       "    .dataframe tbody tr th:only-of-type {\n",
       "        vertical-align: middle;\n",
       "    }\n",
       "\n",
       "    .dataframe tbody tr th {\n",
       "        vertical-align: top;\n",
       "    }\n",
       "\n",
       "    .dataframe thead th {\n",
       "        text-align: right;\n",
       "    }\n",
       "</style>\n",
       "<table border=\"1\" class=\"dataframe\">\n",
       "  <thead>\n",
       "    <tr style=\"text-align: right;\">\n",
       "      <th></th>\n",
       "      <th>0</th>\n",
       "      <th>1</th>\n",
       "      <th>2</th>\n",
       "      <th>3</th>\n",
       "      <th>4</th>\n",
       "      <th>5</th>\n",
       "      <th>6</th>\n",
       "      <th>7</th>\n",
       "      <th>8</th>\n",
       "      <th>9</th>\n",
       "      <th>10</th>\n",
       "      <th>11</th>\n",
       "      <th>12</th>\n",
       "      <th>y-local</th>\n",
       "      <th>cls</th>\n",
       "      <th>pt</th>\n",
       "    </tr>\n",
       "  </thead>\n",
       "  <tbody>\n",
       "    <tr>\n",
       "      <th>0</th>\n",
       "      <td>0.0</td>\n",
       "      <td>0.0</td>\n",
       "      <td>0.0</td>\n",
       "      <td>864.0</td>\n",
       "      <td>17379.0</td>\n",
       "      <td>20934.0</td>\n",
       "      <td>22751.0</td>\n",
       "      <td>4152.0</td>\n",
       "      <td>0.0</td>\n",
       "      <td>0.0</td>\n",
       "      <td>0.0</td>\n",
       "      <td>0.0</td>\n",
       "      <td>0.0</td>\n",
       "      <td>-1.71100</td>\n",
       "      <td>0</td>\n",
       "      <td>2.5575</td>\n",
       "    </tr>\n",
       "    <tr>\n",
       "      <th>1</th>\n",
       "      <td>0.0</td>\n",
       "      <td>0.0</td>\n",
       "      <td>0.0</td>\n",
       "      <td>686.0</td>\n",
       "      <td>12115.0</td>\n",
       "      <td>10639.0</td>\n",
       "      <td>15783.0</td>\n",
       "      <td>6018.0</td>\n",
       "      <td>0.0</td>\n",
       "      <td>0.0</td>\n",
       "      <td>0.0</td>\n",
       "      <td>0.0</td>\n",
       "      <td>0.0</td>\n",
       "      <td>-2.66939</td>\n",
       "      <td>0</td>\n",
       "      <td>1.7065</td>\n",
       "    </tr>\n",
       "    <tr>\n",
       "      <th>2</th>\n",
       "      <td>0.0</td>\n",
       "      <td>0.0</td>\n",
       "      <td>0.0</td>\n",
       "      <td>0.0</td>\n",
       "      <td>131.0</td>\n",
       "      <td>7039.0</td>\n",
       "      <td>8831.0</td>\n",
       "      <td>1877.0</td>\n",
       "      <td>0.0</td>\n",
       "      <td>0.0</td>\n",
       "      <td>0.0</td>\n",
       "      <td>0.0</td>\n",
       "      <td>0.0</td>\n",
       "      <td>2.08771</td>\n",
       "      <td>0</td>\n",
       "      <td>1.9615</td>\n",
       "    </tr>\n",
       "    <tr>\n",
       "      <th>3</th>\n",
       "      <td>0.0</td>\n",
       "      <td>0.0</td>\n",
       "      <td>0.0</td>\n",
       "      <td>5622.0</td>\n",
       "      <td>18582.0</td>\n",
       "      <td>16191.0</td>\n",
       "      <td>212.0</td>\n",
       "      <td>0.0</td>\n",
       "      <td>0.0</td>\n",
       "      <td>0.0</td>\n",
       "      <td>0.0</td>\n",
       "      <td>0.0</td>\n",
       "      <td>0.0</td>\n",
       "      <td>2.19853</td>\n",
       "      <td>0</td>\n",
       "      <td>1.5965</td>\n",
       "    </tr>\n",
       "    <tr>\n",
       "      <th>4</th>\n",
       "      <td>0.0</td>\n",
       "      <td>0.0</td>\n",
       "      <td>0.0</td>\n",
       "      <td>738.0</td>\n",
       "      <td>15120.0</td>\n",
       "      <td>12298.0</td>\n",
       "      <td>17927.0</td>\n",
       "      <td>10023.0</td>\n",
       "      <td>0.0</td>\n",
       "      <td>0.0</td>\n",
       "      <td>0.0</td>\n",
       "      <td>0.0</td>\n",
       "      <td>0.0</td>\n",
       "      <td>-4.16523</td>\n",
       "      <td>0</td>\n",
       "      <td>-2.5775</td>\n",
       "    </tr>\n",
       "    <tr>\n",
       "      <th>...</th>\n",
       "      <td>...</td>\n",
       "      <td>...</td>\n",
       "      <td>...</td>\n",
       "      <td>...</td>\n",
       "      <td>...</td>\n",
       "      <td>...</td>\n",
       "      <td>...</td>\n",
       "      <td>...</td>\n",
       "      <td>...</td>\n",
       "      <td>...</td>\n",
       "      <td>...</td>\n",
       "      <td>...</td>\n",
       "      <td>...</td>\n",
       "      <td>...</td>\n",
       "      <td>...</td>\n",
       "      <td>...</td>\n",
       "    </tr>\n",
       "    <tr>\n",
       "      <th>2040211</th>\n",
       "      <td>0.0</td>\n",
       "      <td>0.0</td>\n",
       "      <td>8911.0</td>\n",
       "      <td>37848.0</td>\n",
       "      <td>16983.0</td>\n",
       "      <td>9165.0</td>\n",
       "      <td>0.0</td>\n",
       "      <td>0.0</td>\n",
       "      <td>0.0</td>\n",
       "      <td>0.0</td>\n",
       "      <td>0.0</td>\n",
       "      <td>0.0</td>\n",
       "      <td>0.0</td>\n",
       "      <td>-1.82885</td>\n",
       "      <td>0</td>\n",
       "      <td>-0.5375</td>\n",
       "    </tr>\n",
       "    <tr>\n",
       "      <th>2040212</th>\n",
       "      <td>3547.0</td>\n",
       "      <td>1875.0</td>\n",
       "      <td>1702.0</td>\n",
       "      <td>1585.0</td>\n",
       "      <td>1425.0</td>\n",
       "      <td>13048.0</td>\n",
       "      <td>34712.0</td>\n",
       "      <td>13072.0</td>\n",
       "      <td>0.0</td>\n",
       "      <td>0.0</td>\n",
       "      <td>0.0</td>\n",
       "      <td>0.0</td>\n",
       "      <td>0.0</td>\n",
       "      <td>4.52152</td>\n",
       "      <td>0</td>\n",
       "      <td>0.3355</td>\n",
       "    </tr>\n",
       "    <tr>\n",
       "      <th>2040213</th>\n",
       "      <td>0.0</td>\n",
       "      <td>0.0</td>\n",
       "      <td>0.0</td>\n",
       "      <td>8.0</td>\n",
       "      <td>7113.0</td>\n",
       "      <td>12462.0</td>\n",
       "      <td>14243.0</td>\n",
       "      <td>15767.0</td>\n",
       "      <td>4918.0</td>\n",
       "      <td>0.0</td>\n",
       "      <td>0.0</td>\n",
       "      <td>0.0</td>\n",
       "      <td>0.0</td>\n",
       "      <td>-6.73840</td>\n",
       "      <td>0</td>\n",
       "      <td>-0.4005</td>\n",
       "    </tr>\n",
       "    <tr>\n",
       "      <th>2040214</th>\n",
       "      <td>0.0</td>\n",
       "      <td>0.0</td>\n",
       "      <td>0.0</td>\n",
       "      <td>0.0</td>\n",
       "      <td>4596.0</td>\n",
       "      <td>25590.0</td>\n",
       "      <td>0.0</td>\n",
       "      <td>0.0</td>\n",
       "      <td>0.0</td>\n",
       "      <td>0.0</td>\n",
       "      <td>0.0</td>\n",
       "      <td>0.0</td>\n",
       "      <td>0.0</td>\n",
       "      <td>5.44171</td>\n",
       "      <td>0</td>\n",
       "      <td>-0.3685</td>\n",
       "    </tr>\n",
       "    <tr>\n",
       "      <th>2040215</th>\n",
       "      <td>0.0</td>\n",
       "      <td>0.0</td>\n",
       "      <td>0.0</td>\n",
       "      <td>1890.0</td>\n",
       "      <td>8209.0</td>\n",
       "      <td>6969.0</td>\n",
       "      <td>5535.0</td>\n",
       "      <td>0.0</td>\n",
       "      <td>0.0</td>\n",
       "      <td>0.0</td>\n",
       "      <td>0.0</td>\n",
       "      <td>0.0</td>\n",
       "      <td>0.0</td>\n",
       "      <td>-3.38535</td>\n",
       "      <td>0</td>\n",
       "      <td>-0.2315</td>\n",
       "    </tr>\n",
       "  </tbody>\n",
       "</table>\n",
       "<p>2040216 rows × 16 columns</p>\n",
       "</div>"
      ],
      "text/plain": [
       "              0       1       2        3        4        5        6        7  \\\n",
       "0           0.0     0.0     0.0    864.0  17379.0  20934.0  22751.0   4152.0   \n",
       "1           0.0     0.0     0.0    686.0  12115.0  10639.0  15783.0   6018.0   \n",
       "2           0.0     0.0     0.0      0.0    131.0   7039.0   8831.0   1877.0   \n",
       "3           0.0     0.0     0.0   5622.0  18582.0  16191.0    212.0      0.0   \n",
       "4           0.0     0.0     0.0    738.0  15120.0  12298.0  17927.0  10023.0   \n",
       "...         ...     ...     ...      ...      ...      ...      ...      ...   \n",
       "2040211     0.0     0.0  8911.0  37848.0  16983.0   9165.0      0.0      0.0   \n",
       "2040212  3547.0  1875.0  1702.0   1585.0   1425.0  13048.0  34712.0  13072.0   \n",
       "2040213     0.0     0.0     0.0      8.0   7113.0  12462.0  14243.0  15767.0   \n",
       "2040214     0.0     0.0     0.0      0.0   4596.0  25590.0      0.0      0.0   \n",
       "2040215     0.0     0.0     0.0   1890.0   8209.0   6969.0   5535.0      0.0   \n",
       "\n",
       "              8    9   10   11   12  y-local  cls      pt  \n",
       "0           0.0  0.0  0.0  0.0  0.0 -1.71100    0  2.5575  \n",
       "1           0.0  0.0  0.0  0.0  0.0 -2.66939    0  1.7065  \n",
       "2           0.0  0.0  0.0  0.0  0.0  2.08771    0  1.9615  \n",
       "3           0.0  0.0  0.0  0.0  0.0  2.19853    0  1.5965  \n",
       "4           0.0  0.0  0.0  0.0  0.0 -4.16523    0 -2.5775  \n",
       "...         ...  ...  ...  ...  ...      ...  ...     ...  \n",
       "2040211     0.0  0.0  0.0  0.0  0.0 -1.82885    0 -0.5375  \n",
       "2040212     0.0  0.0  0.0  0.0  0.0  4.52152    0  0.3355  \n",
       "2040213  4918.0  0.0  0.0  0.0  0.0 -6.73840    0 -0.4005  \n",
       "2040214     0.0  0.0  0.0  0.0  0.0  5.44171    0 -0.3685  \n",
       "2040215     0.0  0.0  0.0  0.0  0.0 -3.38535    0 -0.2315  \n",
       "\n",
       "[2040216 rows x 16 columns]"
      ]
     },
     "execution_count": 15,
     "metadata": {},
     "output_type": "execute_result"
    }
   ],
   "source": [
    "pd.read_csv(os.path.join(train_dir,'FullTestData.csv'))"
   ]
  },
  {
   "cell_type": "code",
   "execution_count": 62,
   "id": "3d1c159d-5078-4d31-b042-894450782a78",
   "metadata": {},
   "outputs": [
    {
     "name": "stderr",
     "output_type": "stream",
     "text": [
      "IOPub data rate exceeded.\n",
      "The Jupyter server will temporarily stop sending output\n",
      "to the client in order to avoid crashing it.\n",
      "To change this limit, set the config variable\n",
      "`--ServerApp.iopub_data_rate_limit`.\n",
      "\n",
      "Current values:\n",
      "ServerApp.iopub_data_rate_limit=1000000.0 (bytes/sec)\n",
      "ServerApp.rate_limit_window=3.0 (secs)\n",
      "\n"
     ]
    }
   ],
   "source": [
    "plist = []\n",
    "prefile = pd.read_csv('./predictionsFiles_400eThresh.csv')\n",
    "for pred in prefile.iloc[:, 0]:\n",
    "    if pred == 0:\n",
    "        plist.append(pred)\n",
    "print(plist)"
   ]
  },
  {
   "cell_type": "code",
   "execution_count": 63,
   "id": "6307b4df-df21-478b-9483-23ae5ea0e770",
   "metadata": {},
   "outputs": [
    {
     "name": "stdout",
     "output_type": "stream",
     "text": [
      "0         -1.71100\n",
      "1         -2.66939\n",
      "2          2.08771\n",
      "3          2.19853\n",
      "4         -4.16523\n",
      "            ...   \n",
      "2040211   -1.82885\n",
      "2040212    4.52152\n",
      "2040213   -6.73840\n",
      "2040214    5.44171\n",
      "2040215   -3.38535\n",
      "Name: y-local, Length: 2040216, dtype: float64\n"
     ]
    }
   ],
   "source": [
    "data = pd.read_csv(os.path.join(train_dir,'FullTestData.csv'))\n",
    "ylocal = data['y-local']\n",
    "print(ylocal)"
   ]
  },
  {
   "cell_type": "code",
   "execution_count": 64,
   "id": "1ad0ee3d-b32c-42a9-93c0-86a5ba4dbf62",
   "metadata": {},
   "outputs": [
    {
     "name": "stdout",
     "output_type": "stream",
     "text": [
      "         predictions  y-local\n",
      "0                  0 -1.71100\n",
      "1                  0 -2.66939\n",
      "2                  0  2.08771\n",
      "3                  0  2.19853\n",
      "4                  0 -4.16523\n",
      "...              ...      ...\n",
      "2040211            0 -1.82885\n",
      "2040212            0  4.52152\n",
      "2040213            0 -6.73840\n",
      "2040214            0  5.44171\n",
      "2040215            0 -3.38535\n",
      "\n",
      "[2040216 rows x 2 columns]\n"
     ]
    }
   ],
   "source": [
    "prefile = prefile.rename(columns={'0': 'predictions'})\n",
    "new = pd.concat([prefile, ylocal], axis=1)\n",
    "print(new)"
   ]
  },
  {
   "cell_type": "code",
   "execution_count": 66,
   "id": "d0f44447-6ed5-49b0-bf16-2c51f9bc9a73",
   "metadata": {},
   "outputs": [
    {
     "name": "stdout",
     "output_type": "stream",
     "text": [
      "0          0\n",
      "1          0\n",
      "2          0\n",
      "3          0\n",
      "4          0\n",
      "          ..\n",
      "2040211    0\n",
      "2040212    0\n",
      "2040213    0\n",
      "2040214    0\n",
      "2040215    0\n",
      "Name: predictions, Length: 2040216, dtype: int64\n"
     ]
    }
   ],
   "source": [
    "print(new['predictions'])"
   ]
  },
  {
   "cell_type": "code",
   "execution_count": 125,
   "id": "e974db49-0eb2-4c86-a3bc-f3998757d333",
   "metadata": {},
   "outputs": [
    {
     "data": {
      "image/png": "[encoded data removed]",
      "text/plain": [
       "<Figure size 640x480 with 1 Axes>"
      ]
     },
     "metadata": {},
     "output_type": "display_data"
    }
   ],
   "source": [
    "newer = new[new['predictions'] == 0]\n",
    "ttlprdctns = plt.hist(newer['y-local'])"
   ]
  },
  {
   "cell_type": "code",
   "execution_count": 116,
   "id": "47ff16dd-a6cf-478a-916b-d7842b29addb",
   "metadata": {},
   "outputs": [
    {
     "name": "stdout",
     "output_type": "stream",
     "text": [
      "         predictions  y-local\n",
      "0                  0 -1.71100\n",
      "1                  0 -2.66939\n",
      "2                  0  2.08771\n",
      "3                  0  2.19853\n",
      "4                  0 -4.16523\n",
      "...              ...      ...\n",
      "2040211            0 -1.82885\n",
      "2040212            0  4.52152\n",
      "2040213            0 -6.73840\n",
      "2040214            0  5.44171\n",
      "2040215            0 -3.38535\n",
      "\n",
      "[1585982 rows x 2 columns]\n"
     ]
    }
   ],
   "source": [
    "print(newer)"
   ]
  },
  {
   "cell_type": "code",
   "execution_count": 69,
   "id": "00e3dc42-e2a0-4a66-b4d2-55a7dc617c03",
   "metadata": {},
   "outputs": [
    {
     "name": "stderr",
     "output_type": "stream",
     "text": [
      "IOPub data rate exceeded.\n",
      "The Jupyter server will temporarily stop sending output\n",
      "to the client in order to avoid crashing it.\n",
      "To change this limit, set the config variable\n",
      "`--ServerApp.iopub_data_rate_limit`.\n",
      "\n",
      "Current values:\n",
      "ServerApp.iopub_data_rate_limit=1000000.0 (bytes/sec)\n",
      "ServerApp.rate_limit_window=3.0 (secs)\n",
      "\n"
     ]
    }
   ],
   "source": [
    "tlist = []\n",
    "tstfile = pd.read_csv('./testResults_400eThresh.csv')\n",
    "for res in tstfile.iloc[:, 0]:\n",
    "    if res == 0:\n",
    "        tlist.append(res)\n",
    "print(tlist)"
   ]
  },
  {
   "cell_type": "code",
   "execution_count": 70,
   "id": "606cdd6b-c225-455d-9b8c-0ffb94a758e1",
   "metadata": {},
   "outputs": [
    {
     "name": "stdout",
     "output_type": "stream",
     "text": [
      "         results  y-local\n",
      "0              0 -1.71100\n",
      "1              0 -2.66939\n",
      "2              0  2.08771\n",
      "3              0  2.19853\n",
      "4              0 -4.16523\n",
      "...          ...      ...\n",
      "2040211        0 -1.82885\n",
      "2040212        0  4.52152\n",
      "2040213        0 -6.73840\n",
      "2040214        0  5.44171\n",
      "2040215        0 -3.38535\n",
      "\n",
      "[2040216 rows x 2 columns]\n"
     ]
    }
   ],
   "source": [
    "tstfile = tstfile.rename(columns={'0':'results'})\n",
    "mew = pd.concat([tstfile, ylocal], axis=1)\n",
    "print(mew)"
   ]
  },
  {
   "cell_type": "code",
   "execution_count": 123,
   "id": "d1c412a4-9a79-4c0d-a3a0-4357bd9c99b5",
   "metadata": {},
   "outputs": [
    {
     "data": {
      "image/png": "[encoded data removed]",
      "text/plain": [
       "<Figure size 640x480 with 1 Axes>"
      ]
     },
     "metadata": {},
     "output_type": "display_data"
    }
   ],
   "source": [
    "mewer = mew[mew['results'] == 0]\n",
    "tstrslts = plt.hist(mewer['y-local'])"
   ]
  },
  {
   "cell_type": "code",
   "execution_count": 117,
   "id": "9ad086bf-1a47-4a8a-9025-2a225405d7e3",
   "metadata": {},
   "outputs": [
    {
     "name": "stdout",
     "output_type": "stream",
     "text": [
      "         results  y-local\n",
      "0              0 -1.71100\n",
      "1              0 -2.66939\n",
      "2              0  2.08771\n",
      "3              0  2.19853\n",
      "4              0 -4.16523\n",
      "...          ...      ...\n",
      "2040211        0 -1.82885\n",
      "2040212        0  4.52152\n",
      "2040213        0 -6.73840\n",
      "2040214        0  5.44171\n",
      "2040215        0 -3.38535\n",
      "\n",
      "[1583923 rows x 2 columns]\n"
     ]
    }
   ],
   "source": [
    "print(mewer)"
   ]
  },
  {
   "cell_type": "code",
   "execution_count": 134,
   "id": "a0776aeb-f822-4ac0-8ddd-d506c4bd50fa",
   "metadata": {},
   "outputs": [
    {
     "name": "stdout",
     "output_type": "stream",
     "text": [
      "         predictions  results  y-local\n",
      "0                  0        0 -1.71100\n",
      "1                  0        0 -2.66939\n",
      "2                  0        0  2.08771\n",
      "3                  0        0  2.19853\n",
      "4                  0        0 -4.16523\n",
      "...              ...      ...      ...\n",
      "2040211            0        0 -1.82885\n",
      "2040212            0        0  4.52152\n",
      "2040213            0        0 -6.73840\n",
      "2040214            0        0  5.44171\n",
      "2040215            0        0 -3.38535\n",
      "\n",
      "[2040216 rows x 3 columns]\n"
     ]
    }
   ],
   "source": [
    "end = pd.concat([prefile, tstfile, ylocal], axis = 1)\n",
    "print(end)"
   ]
  },
  {
   "cell_type": "code",
   "execution_count": 132,
   "id": "d9779bdc-953b-4ef5-a50c-33b00c353ac2",
   "metadata": {},
   "outputs": [],
   "source": [
    "#list2 = []\n",
    "#for i, val in enumerate(end['y-local']):\n",
    "#    if end['predictions'][i] == end['results'][i]:\n",
    "#        pass\n",
    "#    else:\n",
    "#        list2.append(end['predictions'][i])\n",
    "#wrong = pd.DataFrame({'false': list2})\n",
    "#wronger = pd.concat([wrong, ylocal], axis=1)\n",
    "#print(wronger)"
   ]
  },
  {
   "cell_type": "code",
   "execution_count": 133,
   "id": "4124fdf7-558c-4c23-88bb-d1dc91faa757",
   "metadata": {},
   "outputs": [],
   "source": [
    "#finale = wronger[wronger['false'] == 0]\n",
    "#plt.hist(finale['y-local'])"
   ]
  },
  {
   "cell_type": "code",
   "execution_count": 115,
   "id": "e1daf35a-6b19-43a7-aae5-ac4aabbb74f5",
   "metadata": {},
   "outputs": [
    {
     "name": "stdout",
     "output_type": "stream",
     "text": [
      "        false  y-local\n",
      "18200     0.0 -6.39195\n",
      "18201     0.0 -8.01499\n",
      "18203     0.0  4.48494\n",
      "18204     0.0  5.88616\n",
      "18206     0.0 -2.88906\n",
      "...       ...      ...\n",
      "592475    0.0  6.44691\n",
      "592476    0.0 -5.15492\n",
      "592481    0.0 -6.50556\n",
      "592486    0.0  1.96394\n",
      "592487    0.0  1.81901\n",
      "\n",
      "[295016 rows x 2 columns]\n"
     ]
    }
   ],
   "source": [
    "print(finale)"
   ]
  },
  {
   "cell_type": "code",
   "execution_count": 83,
   "id": "3081ee93-7c06-4194-bb9c-61b2df4b43b3",
   "metadata": {},
   "outputs": [
    {
     "name": "stdout",
     "output_type": "stream",
     "text": [
      "         predictions  results  y-local\n",
      "0                  0        0 -1.71100\n",
      "1                  0        0 -2.66939\n",
      "2                  0        0  2.08771\n",
      "3                  0        0  2.19853\n",
      "4                  0        0 -4.16523\n",
      "...              ...      ...      ...\n",
      "2040211            0        0 -1.82885\n",
      "2040212            0        0  4.52152\n",
      "2040213            0        0 -6.73840\n",
      "2040214            0        0  5.44171\n",
      "2040215            0        0 -3.38535\n",
      "\n",
      "[2040216 rows x 3 columns]\n"
     ]
    }
   ],
   "source": [
    "print(end)"
   ]
  },
  {
   "cell_type": "code",
   "execution_count": 98,
   "id": "0fd5853b-aff5-4c67-8e8b-95255cecf4fc",
   "metadata": {},
   "outputs": [
    {
     "data": {
      "text/plain": [
       "True"
      ]
     },
     "execution_count": 98,
     "metadata": {},
     "output_type": "execute_result"
    }
   ],
   "source": [
    "end['predictions'][2] == end['results'][2]"
   ]
  },
  {
   "cell_type": "code",
   "execution_count": 135,
   "id": "4e719cf6-ac3d-4d30-8a7a-c6399b1333bd",
   "metadata": {},
   "outputs": [
    {
     "name": "stdout",
     "output_type": "stream",
     "text": [
      "         false  y-local\n",
      "0            3 -1.71100\n",
      "1            3 -2.66939\n",
      "2            3  2.08771\n",
      "3            3  2.19853\n",
      "4            3 -4.16523\n",
      "...        ...      ...\n",
      "2040211      3 -1.82885\n",
      "2040212      3  4.52152\n",
      "2040213      3 -6.73840\n",
      "2040214      3  5.44171\n",
      "2040215      3 -3.38535\n",
      "\n",
      "[2040216 rows x 2 columns]\n"
     ]
    }
   ],
   "source": [
    "list2 = []\n",
    "for i, val in enumerate(end['y-local']):\n",
    "    if end['predictions'][i] == end['results'][i]:\n",
    "        list2.append(3)\n",
    "    else:\n",
    "        list2.append(end['predictions'][i])\n",
    "wrong = pd.DataFrame({'false': list2})\n",
    "wronger = pd.concat([wrong, ylocal], axis=1)\n",
    "print(wronger)"
   ]
  },
  {
   "cell_type": "code",
   "execution_count": 136,
   "id": "3afc71d1-2dda-4bfc-bbab-d8e8d324b6f4",
   "metadata": {},
   "outputs": [
    {
     "data": {
      "image/png": "[encoded data removed]",
      "text/plain": [
       "<Figure size 640x480 with 1 Axes>"
      ]
     },
     "metadata": {},
     "output_type": "display_data"
    }
   ],
   "source": [
    "finale = wronger[wronger['false'] == 0]\n",
    "flsprdctns = plt.hist(finale['y-local'])"
   ]
  },
  {
   "cell_type": "code",
   "execution_count": 137,
   "id": "19b1fb0a-cfc1-4112-9feb-c4eb1809978d",
   "metadata": {},
   "outputs": [
    {
     "data": {
      "text/plain": [
       "(array([[120369., 157612., 178955., 188272., 190630., 187866., 178305.,\n",
       "         157428., 127157.,  99388.],\n",
       "        [142711., 181149., 207082., 221503., 225708., 221497., 208934.,\n",
       "         186580., 156423., 129411.]]),\n",
       " array([-8.09999 , -6.479992, -4.859994, -3.239996, -1.619998,  0.      ,\n",
       "         1.619998,  3.239996,  4.859994,  6.479992,  8.09999 ]),\n",
       " <a list of 2 BarContainer objects>)"
      ]
     },
     "execution_count": 137,
     "metadata": {},
     "output_type": "execute_result"
    },
    {
     "data": {
      "image/png": "[encoded data removed]",
      "text/plain": [
       "<Figure size 640x480 with 1 Axes>"
      ]
     },
     "metadata": {},
     "output_type": "display_data"
    }
   ],
   "source": [
    "plt.hist([newer['y-local'], finale['y-local']], stacked=True)"
   ]
  },
  {
   "cell_type": "code",
   "execution_count": 129,
   "id": "5fa9e49a-538e-4a6e-9ded-910c911a44cd",
   "metadata": {},
   "outputs": [
    {
     "name": "stdout",
     "output_type": "stream",
     "text": [
      "1585982\n"
     ]
    }
   ],
   "source": [
    "print(len(newer['y-local']))"
   ]
  },
  {
   "cell_type": "code",
   "execution_count": 130,
   "id": "3f4bc0d4-c79e-4eb3-9247-14b6668bc974",
   "metadata": {},
   "outputs": [
    {
     "name": "stdout",
     "output_type": "stream",
     "text": [
      "295016\n"
     ]
    }
   ],
   "source": [
    "print(len(finale['y-local']))"
   ]
  },
  {
   "cell_type": "code",
   "execution_count": 131,
   "id": "5f3a0177-3382-48a3-ba72-394a2cfb7714",
   "metadata": {},
   "outputs": [
    {
     "name": "stdout",
     "output_type": "stream",
     "text": [
      "1583923\n"
     ]
    }
   ],
   "source": [
    "print(len(mewer['y-local']))"
   ]
  },
  {
   "cell_type": "code",
   "execution_count": 152,
   "id": "b422ebdf-fe70-4c18-8433-a5542d8bd28d",
   "metadata": {},
   "outputs": [
    {
     "name": "stdout",
     "output_type": "stream",
     "text": [
      "         true  y-local\n",
      "0           0 -1.71100\n",
      "1           0 -2.66939\n",
      "2           0  2.08771\n",
      "3           0  2.19853\n",
      "4           0 -4.16523\n",
      "...       ...      ...\n",
      "2040211     0 -1.82885\n",
      "2040212     0  4.52152\n",
      "2040213     0 -6.73840\n",
      "2040214     0  5.44171\n",
      "2040215     0 -3.38535\n",
      "\n",
      "[2040216 rows x 2 columns]\n"
     ]
    }
   ],
   "source": [
    "list3 = []\n",
    "for i, val in enumerate(end['y-local']):\n",
    "    if end['predictions'][i] == end['results'][i]:\n",
    "        list3.append(end['predictions'][i])\n",
    "    else:\n",
    "        list3.append(3)\n",
    "nope = pd.DataFrame({'true': list3})\n",
    "noper = pd.concat([nope, ylocal], axis=1)\n",
    "print(noper)"
   ]
  },
  {
   "cell_type": "code",
   "execution_count": 153,
   "id": "e5e2e232-2447-4dc0-a834-dcf915d3f095",
   "metadata": {},
   "outputs": [
    {
     "data": {
      "text/plain": [
       "(array([ 98027., 134075., 150828., 155041., 155552., 154235., 147676.,\n",
       "        128276.,  97891.,  69365.]),\n",
       " array([-8.09999 , -6.479992, -4.859994, -3.239996, -1.619998,  0.      ,\n",
       "         1.619998,  3.239996,  4.859994,  6.479992,  8.09999 ]),\n",
       " <BarContainer object of 10 artists>)"
      ]
     },
     "execution_count": 153,
     "metadata": {},
     "output_type": "execute_result"
    },
    {
     "data": {
      "image/png": "[encoded data removed]",
      "text/plain": [
       "<Figure size 640x480 with 1 Axes>"
      ]
     },
     "metadata": {},
     "output_type": "display_data"
    }
   ],
   "source": [
    "finale2 = noper[noper['true'] == 0]\n",
    "plt.hist(finale2['y-local'])"
   ]
  },
  {
   "cell_type": "code",
   "execution_count": 154,
   "id": "e1058687-e99f-4eb0-92a9-284ebf03a513",
   "metadata": {},
   "outputs": [
    {
     "data": {
      "text/plain": [
       "(array([[ 98027., 134075., 150828., 155041., 155552., 154235., 147676.,\n",
       "         128276.,  97891.,  69365.],\n",
       "        [120369., 157612., 178955., 188272., 190630., 187866., 178305.,\n",
       "         157428., 127157.,  99388.]]),\n",
       " array([-8.09999 , -6.479992, -4.859994, -3.239996, -1.619998,  0.      ,\n",
       "         1.619998,  3.239996,  4.859994,  6.479992,  8.09999 ]),\n",
       " <a list of 2 BarContainer objects>)"
      ]
     },
     "execution_count": 154,
     "metadata": {},
     "output_type": "execute_result"
    },
    {
     "data": {
      "image/png": "[encoded data removed]",
      "text/plain": [
       "<Figure size 640x480 with 1 Axes>"
      ]
     },
     "metadata": {},
     "output_type": "display_data"
    }
   ],
   "source": [
    "plt.hist([finale2['y-local'], finale['y-local']], stacked=True)"
   ]
  },
  {
   "cell_type": "code",
   "execution_count": 202,
   "id": "1e9aa9dc-0dcd-4ba1-ab9c-6ac0085cb719",
   "metadata": {},
   "outputs": [
    {
     "data": {
      "image/png": "[encoded data removed]",
      "text/plain": [
       "<Figure size 1000x640 with 2 Axes>"
      ]
     },
     "metadata": {},
     "output_type": "display_data"
    }
   ],
   "source": [
    "fig, axes = plt.subplots(1, 2, figsize=[10, 6.4])\n",
    "\n",
    "axes[0].hist([finale2['y-local'], finale['y-local']], stacked=True, label=['Correct', 'Incorrect'], color=['#1f77b4', 'orange'])\n",
    "axes[0].legend(loc='upper left')\n",
    "axes[0].set_title(\"Correct vs Incorrect High pT Predictions\")\n",
    "\n",
    "axes[1].hist(newer['y-local'])\n",
    "axes[1].set_title(\"Total High pT Predictions\")\n",
    "\n",
    "for ax in axes:\n",
    "    ax.set_xlabel('y-local')\n",
    "    ax.set_ylabel('N Predictions')\n",
    "\n",
    "plt.tight_layout()\n",
    "plt.show()"
   ]
  },
  {
   "cell_type": "code",
   "execution_count": null,
   "id": "d9352022-0844-4987-bcd6-ac942d9eb4f5",
   "metadata": {},
   "outputs": [],
   "source": []
  }
 ],
 "metadata": {
  "kernelspec": {
   "display_name": "Python 3 (ipykernel)",
   "language": "python",
   "name": "python3"
  },
  "language_info": {
   "codemirror_mode": {
    "name": "ipython",
    "version": 3
   },
   "file_extension": ".py",
   "mimetype": "text/x-python",
   "name": "python",
   "nbconvert_exporter": "python",
   "pygments_lexer": "ipython3",
   "version": "3.10.17"
  }
 },
 "nbformat": 4,
 "nbformat_minor": 5
}
